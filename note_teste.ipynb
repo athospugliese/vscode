{
 "cells": [
  {
   "cell_type": "code",
   "execution_count": 1,
   "metadata": {},
   "outputs": [],
   "source": [
    "# importing packages\n",
    "\n",
    "import os\n",
    "import glob\n",
    "import numpy as np\n",
    "import pandas as pd\n",
    "from datetime import datetime\n",
    "\n",
    "from openai import AzureOpenAI\n",
    "\n",
    "from langchain.chat_models import AzureChatOpenAI\n",
    "from langchain.document_loaders import DataFrameLoader\n",
    "from langchain.text_splitter import RecursiveCharacterTextSplitter\n",
    "from langchain.prompts import PromptTemplate\n",
    "\n",
    "import chromadb\n",
    "from chromadb.utils import embedding_functions\n",
    "\n",
    "import tiktoken\n",
    "from tqdm import tqdm\n",
    "from glob import glob\n",
    "from dotenv import load_dotenv\n",
    "import xml.etree.ElementTree as ET  "
   ]
  },
  {
   "cell_type": "code",
   "execution_count": 2,
   "metadata": {},
   "outputs": [
    {
     "data": {
      "text/plain": [
       "True"
      ]
     },
     "execution_count": 2,
     "metadata": {},
     "output_type": "execute_result"
    }
   ],
   "source": [
    "# loading env variable\n",
    "load_dotenv()"
   ]
  },
  {
   "cell_type": "code",
   "execution_count": 3,
   "metadata": {},
   "outputs": [],
   "source": [
    "## GPT-3.5\n",
    "client = AzureOpenAI(\n",
    "  azure_endpoint = \"https://cog-cqz45retsstie.openai.azure.com/\", \n",
    "  api_key=os.getenv(\"AZURE_OPENAI_KEY\"),  \n",
    "  api_version=\"2024-02-15-preview\"\n",
    ")"
   ]
  },
  {
   "cell_type": "code",
   "execution_count": 15,
   "metadata": {},
   "outputs": [],
   "source": [
    "# prompt\n",
    "header = \"\"\"Definition: You are an experient software engineer that works with code translation. Your knowledge is based o the R and Python languages. You can convert any type of code from R to Python.\\n\"\"\"\n",
    "\n",
    "context = \"\"\"Context:\n",
    "You will be given a R code and you will perform as follows:\n",
    "1. You are going to translate the R code to Python;\n",
    "2. If there are any dependencies on R, you will translate to their Python's corresnpondents;\n",
    "3. You MUST add comments on each piece of code translated, explaining its behaviour. You MUST be very descriptive;\n",
    "4. You will translate ONLY the code given, do not create new one.\n",
    "5. You will create a requirements file with the dependencies that must be installed in Python.\\n\"\"\"\n",
    "\n",
    "action = \"\"\"\n",
    "Action:\n",
    "Given the following R code, convert it into Python, and then, return a JSON with `PyCode` as key and the correspondent Python code translated as value, and a second key `Reqs` with the requirements to install the dependencies as value:\n",
    "\n",
    "```{code}```\n",
    "\n",
    "RETURN ONLY THE JSON OBJECT. NOTHING ELSE.\n",
    "The result JSON is:\\n\n",
    "\"\"\"\n",
    "\n",
    "code = \"\"\"\n",
    "library(“copula”, lib=installLocation)\n",
    "library(“ggplot2”, lib=installLocation)\n",
    "library(“scatterplot3d”, lib=installLocation)\n",
    "library(“grid”, lib=installLocation)\n",
    "library(“ abelling”, lib=installLocation)\n",
    "library(“VineCopula”, lib=installLocation)\n",
    "library(“fitdistrplus”, lib=installLocation)\n",
    "\n",
    "# Generate a bivariate normal copula with rho = 0.7\n",
    "normal <- normalCopula(param = 0.7, dim = 2)\n",
    "# Generate a bivariate t-copula with rho = 0.8 and df = 2\n",
    "stc <- tCopula(param = 0.8, dim = 2, df = 2)\n",
    "\n",
    "# Build a Frank, a Gumbel and a Clayton copula \n",
    "frank <- frankCopula(dim = 2, param = 8) \n",
    "gumbel <- gumbelCopula(dim = 3, param = 5.6) \n",
    "clayton <- claytonCopula(dim = 4, param = 19)\n",
    "\"\"\"\n",
    "\n",
    "template = header + context + action\n",
    "\n",
    "prompt_template = PromptTemplate.from_template(template=template)\n",
    "\n",
    "prompt = prompt_template.format(code=code)\n",
    "\n",
    "message_text = [{\"role\":\"system\",\n",
    "                 \"content\":prompt},]"
   ]
  },
  {
   "cell_type": "code",
   "execution_count": 16,
   "metadata": {},
   "outputs": [
    {
     "name": "stdout",
     "output_type": "stream",
     "text": [
      "{\n",
      "    \"PyCode\": \"import copula\\nimport ggplot2\\nimport scatterplot3d\\nimport grid\\nimport abelling\\nimport VineCopula\\nimport fitdistrplus\\n\\n# Generate a bivariate normal copula with rho = 0.7\\nnormal = copula.normalCopula(param = 0.7, dim = 2)\\n# Generate a bivariate t-copula with rho = 0.8 and df = 2\\nstc = copula.tCopula(param = 0.8, dim = 2, df = 2)\\n\\n# Build a Frank, a Gumbel and a Clayton copula \\nfrank = copula.frankCopula(dim = 2, param = 8) \\ngumbel = copula.gumbelCopula(dim = 3, param = 5.6) \\nclayton = copula.claytonCopula(dim = 4, param = 19)\", \n",
      "    \"Reqs\": \"copula\\nggplot2\\nscatterplot3d\\ngrid\\nabelling\\nVineCopula\\nfitdistrplus\"\n",
      "}\n"
     ]
    }
   ],
   "source": [
    "completion = client.chat.completions.create(\n",
    "  model=\"chat\", # model = \"deployment_name\"\n",
    "  messages = message_text,\n",
    "  temperature=0.1,\n",
    "  max_tokens=2048,\n",
    "  top_p=0.95,\n",
    "  frequency_penalty=0,\n",
    "  presence_penalty=0,\n",
    "  stop=None\n",
    ")\n",
    "\n",
    "print(completion.choices[0].message.content)\n",
    "\n",
    "code_translated = eval(completion.choices[0].message.content)"
   ]
  },
  {
   "cell_type": "code",
   "execution_count": 10,
   "metadata": {},
   "outputs": [
    {
     "data": {
      "text/plain": [
       "'import copula\\nimport ggplot2\\nimport scatterplot3d\\nimport grid\\nimport abelling\\nimport VineCopula\\nimport fitdistrplus\\n\\n# Generate a bivariate normal copula with rho = 0.7\\nnormal = copula.normalCopula(param = 0.7, dim = 2)\\n# Generate a bivariate t-copula with rho = 0.8 and df = 2\\nstc = copula.tCopula(param = 0.8, dim = 2, df = 2)\\n\\n# Build a Frank, a Gumbel and a Clayton copula \\nfrank = copula.frankCopula(dim = 2, param = 8) \\ngumbel = copula.gumbelCopula(dim = 3, param = 5.6) \\nclayton = copula.claytonCopula(dim = 4, param = 19)'"
      ]
     },
     "execution_count": 10,
     "metadata": {},
     "output_type": "execute_result"
    }
   ],
   "source": [
    "code_translated['PyCode']"
   ]
  },
  {
   "cell_type": "code",
   "execution_count": 17,
   "metadata": {},
   "outputs": [],
   "source": [
    "def save_python_script(dict_code, filename):\n",
    "  \"\"\"\n",
    "  Saves the provided Python code string as a Python script file.\n",
    "\n",
    "  Args:\n",
    "      dict_code (Dict): The Python Dictionary Object with the code string and the requirements to be saved.\n",
    "      filename (str): The desired filename for the Python script (should end with '.py').\n",
    "  \"\"\"\n",
    "\n",
    "  try:\n",
    "    with open(filename, 'w') as f:\n",
    "      f.write(dict_code['PyCode'])\n",
    "    with open('reqs.txt', 'w') as f:\n",
    "      f.write(dict_code['Reqs'])\n",
    "      \n",
    "    print(f\"Python script saved successfully: {filename}\")\n",
    "  except OSError as e:\n",
    "    print(f\"Error saving Python script: {e}\")"
   ]
  },
  {
   "cell_type": "code",
   "execution_count": 18,
   "metadata": {},
   "outputs": [
    {
     "name": "stdout",
     "output_type": "stream",
     "text": [
      "Python script saved successfully: Python_code.py\n"
     ]
    }
   ],
   "source": [
    "save_python_script(code_translated, 'Python_code.py')"
   ]
  },
  {
   "cell_type": "code",
   "execution_count": null,
   "metadata": {},
   "outputs": [],
   "source": []
  }
 ],
 "metadata": {
  "kernelspec": {
   "display_name": "itau",
   "language": "python",
   "name": "python3"
  },
  "language_info": {
   "codemirror_mode": {
    "name": "ipython",
    "version": 3
   },
   "file_extension": ".py",
   "mimetype": "text/x-python",
   "name": "python",
   "nbconvert_exporter": "python",
   "pygments_lexer": "ipython3",
   "version": "3.10.13"
  }
 },
 "nbformat": 4,
 "nbformat_minor": 2
}
